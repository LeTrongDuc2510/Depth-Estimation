{
 "cells": [
  {
   "cell_type": "code",
   "execution_count": 1,
   "id": "84587fbf-1fb0-4e7a-bd37-c5d71bbd0c1c",
   "metadata": {},
   "outputs": [
    {
     "name": "stdout",
     "output_type": "stream",
     "text": [
      "Train set: 960 pairs, Test set: 240 pairs\n",
      "Dataset split complete!\n"
     ]
    }
   ],
   "source": [
    "import os\n",
    "import shutil\n",
    "import random\n",
    "\n",
    "# Set seed for reproducibility\n",
    "random.seed(2025)\n",
    "\n",
    "# Define source and destination directories\n",
    "source_root = \"dataset/our-data/v1.3\"  # Original dataset path\n",
    "train_root = f\"{source_root}/train\"\n",
    "test_root = f\"{source_root}/test\"\n",
    "\n",
    "# Create train and test directories\n",
    "for split in [\"train\", \"test\"]:\n",
    "    for subfolder in [\"depth\", \"rgb\"]:\n",
    "        os.makedirs(os.path.join(f\"{source_root}/{split}\", subfolder), exist_ok=True)\n",
    "\n",
    "# Get all image pairs\n",
    "image_pairs = []\n",
    "depth_root = os.path.join(source_root, \"depth\")\n",
    "rgb_root = os.path.join(source_root, \"rgb\")\n",
    "\n",
    "for scene in os.listdir(depth_root):\n",
    "    depth_scene_path = os.path.join(depth_root, scene)\n",
    "    rgb_scene_path = os.path.join(rgb_root, scene)\n",
    "\n",
    "    if os.path.isdir(depth_scene_path) and os.path.isdir(rgb_scene_path):\n",
    "        for img_name in os.listdir(depth_scene_path):\n",
    "            depth_img_path = os.path.join(depth_scene_path, img_name)\n",
    "            rgb_img_path = os.path.join(rgb_scene_path, img_name.replace(\"depth\", \"rgb\"))\n",
    "\n",
    "            if os.path.exists(rgb_img_path):  # Ensure corresponding RGB image exists\n",
    "                image_pairs.append((rgb_img_path, depth_img_path, scene))\n",
    "\n",
    "# Shuffle and split\n",
    "random.shuffle(image_pairs)\n",
    "split_ratio = 0.8  # 80% train, 20% test\n",
    "split_idx = int(len(image_pairs) * split_ratio)\n",
    "\n",
    "train_pairs = image_pairs[:split_idx]\n",
    "test_pairs = image_pairs[split_idx:]\n",
    "\n",
    "# Function to move files\n",
    "def move_files(pairs, destination):\n",
    "    for rgb_path, depth_path, scene in pairs:\n",
    "        # Create subfolders in train/test based on scene name\n",
    "        os.makedirs(os.path.join(destination, \"rgb\", scene), exist_ok=True)\n",
    "        os.makedirs(os.path.join(destination, \"depth\", scene), exist_ok=True)\n",
    "\n",
    "        # Move files\n",
    "        shutil.copy(rgb_path, os.path.join(destination, \"rgb\", scene, os.path.basename(rgb_path)))\n",
    "        shutil.copy(depth_path, os.path.join(destination, \"depth\", scene, os.path.basename(depth_path)))\n",
    "\n",
    "# Move train and test data\n",
    "# move_files(train_pairs, train_root)\n",
    "# move_files(test_pairs, test_root)\n",
    "\n",
    "def copy_files(pairs, destination):\n",
    "    for rgb_path, depth_path, scene in pairs:\n",
    "        # Create subfolders in train/test based on scene name\n",
    "        os.makedirs(os.path.join(destination, \"rgb\", scene), exist_ok=True)\n",
    "        os.makedirs(os.path.join(destination, \"depth\", scene), exist_ok=True)\n",
    "\n",
    "        # Copy files instead of moving\n",
    "        shutil.copy(rgb_path, os.path.join(destination, \"rgb\", scene, os.path.basename(rgb_path)))\n",
    "        shutil.copy(depth_path, os.path.join(destination, \"depth\", scene, os.path.basename(depth_path)))\n",
    "\n",
    "# Copy train and test data\n",
    "copy_files(train_pairs, train_root)\n",
    "copy_files(test_pairs, test_root)\n",
    "\n",
    "print(f\"Train set: {len(train_pairs)} pairs, Test set: {len(test_pairs)} pairs\")\n",
    "print(\"Dataset split complete!\")\n"
   ]
  },
  {
   "cell_type": "code",
   "execution_count": null,
   "id": "097c04aa-a1fb-4411-8edc-9e415b703b62",
   "metadata": {},
   "outputs": [],
   "source": []
  }
 ],
 "metadata": {
  "kernelspec": {
   "display_name": "Python 3 (ipykernel)",
   "language": "python",
   "name": "python3"
  },
  "language_info": {
   "codemirror_mode": {
    "name": "ipython",
    "version": 3
   },
   "file_extension": ".py",
   "mimetype": "text/x-python",
   "name": "python",
   "nbconvert_exporter": "python",
   "pygments_lexer": "ipython3",
   "version": "3.11.0rc1"
  }
 },
 "nbformat": 4,
 "nbformat_minor": 5
}
